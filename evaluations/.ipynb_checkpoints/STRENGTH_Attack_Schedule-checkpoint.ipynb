{
 "cells": [
  {
   "cell_type": "markdown",
   "id": "5e3ecb08",
   "metadata": {},
   "source": [
    "# Importing libraries"
   ]
  },
  {
   "cell_type": "code",
   "execution_count": 6,
   "id": "25f1073e",
   "metadata": {},
   "outputs": [],
   "source": [
    "import pandas as pd\n",
    "import numpy as np\n",
    "import math\n",
    "import os\n",
    "import sys\n",
    "import json\n",
    "import networkx as nx"
   ]
  },
  {
   "cell_type": "markdown",
   "id": "70e33a12",
   "metadata": {},
   "source": [
    "# Current and parent directories"
   ]
  },
  {
   "cell_type": "code",
   "execution_count": 2,
   "id": "43b47424",
   "metadata": {},
   "outputs": [],
   "source": [
    "current_directory = os.getcwd()\n",
    "parent_directory = os.path.dirname(current_directory)"
   ]
  },
  {
   "cell_type": "markdown",
   "id": "7cd17323",
   "metadata": {},
   "source": [
    "# Read zone information"
   ]
  },
  {
   "cell_type": "code",
   "execution_count": 3,
   "id": "21e9a6bd",
   "metadata": {},
   "outputs": [],
   "source": [
    "zones = pd.read_excel(str(parent_directory) + '/data/Aras-Information.xlsx', sheet_name='Zone-Info')\n",
    "num_zones = len(zones)"
   ]
  },
  {
   "cell_type": "markdown",
   "id": "0ce20d5b",
   "metadata": {},
   "source": [
    "# Parameters"
   ]
  },
  {
   "cell_type": "code",
   "execution_count": 15,
   "id": "afdc5398",
   "metadata": {},
   "outputs": [],
   "source": [
    "num_timeslots = 1440\n",
    "num_zones = 5"
   ]
  },
  {
   "cell_type": "markdown",
   "id": "44ad5fd6",
   "metadata": {},
   "source": [
    "# Save linearized attack schedule (STRENGTH) for all houses and occupants"
   ]
  },
  {
   "cell_type": "code",
   "execution_count": 42,
   "id": "3c221582",
   "metadata": {},
   "outputs": [
    {
     "name": "stdout",
     "output_type": "stream",
     "text": [
      "Number of nodes: 2673\n",
      "Number of edges: 5918\n",
      "['0-0-0', '0-4-3', '0-4-6', '6-2-14', '6-2-17', '6-2-18', '6-2-23', '6-2-51', '57-1-534', '591-4-3', '594-3-28', '622-1-17', '639-3-8', '639-3-9', '639-3-10', '639-3-11', '639-3-12', '639-3-13', '652-0-3', '655-4-5', '660-3-62', '722-0-9', '722-0-10', '722-0-11', '733-1-1', '734-3-10', '744-2-3', '747-3-60', '807-4-5', '807-4-6', '807-4-7', '807-4-8', '807-4-9', '807-4-10', '807-4-11', '807-4-12', '807-4-13', '807-4-14', '807-4-15', '807-4-16', '807-4-17', '807-4-18', '807-4-19', '807-4-20', '827-2-28', '855-3-63', '918-0-12', '930-3-21', '951-2-21', '972-3-12', '984-2-10', '994-1-6', '1000-4-3', '1000-4-5', '1000-4-6', '1006-3-40', '1046-2-6', '1046-2-8', '1054-3-34', '1088-4-5', '1093-2-61', '1093-2-62', '1093-2-63', '1093-2-64', '1093-2-65', '1093-2-66', '1159-4-8', '1159-4-12', '1159-4-13', '1159-4-15', '1159-4-16', '1175-2-22', '1197-1-2', '1199-4-20', '1219-1-4', '1223-3-58', '1281-2-12', '1281-2-14', '1281-2-21', '1302-1-48', '1350-2-22', '1350-2-24', '1374-3-8', '1382-4-2', '1384-2-56']\n",
      "Number of nodes: 2072\n",
      "Number of edges: 4180\n",
      "['0-0-0', '0-3-2', '2-2-7', '9-4-7', '16-2-18', '34-4-4', '38-2-15', '53-1-40', '93-4-3', '96-3-17', '113-1-284', '397-4-5', '402-1-52', '454-4-20', '474-2-8', '482-4-21', '482-4-22', '482-4-23', '482-4-24', '506-0-563', '1069-1-11', '1080-2-92', '1172-3-8', '1172-3-9', '1172-3-12', '1184-2-3', '1187-3-95', '1282-1-13', '1295-3-11', '1306-2-18', '1306-2-20', '1306-2-21', '1306-2-134']\n",
      "Number of nodes: 1003\n",
      "Number of edges: 1739\n",
      "['0-0-0', '0-1-228', '0-1-301', '0-1-456', '456-4-4', '460-2-21', '481-3-22', '503-2-12', '515-0-8', '523-2-7', '530-1-8', '538-3-23', '561-1-6', '567-3-14', '581-2-13', '581-2-16', '597-3-18', '615-0-4', '619-3-17', '636-2-10', '636-2-11', '636-2-12', '648-0-5', '653-2-7', '660-3-2', '662-1-37', '699-2-41', '740-0-13', '753-3-44', '797-4-1', '798-2-27', '825-3-2', '825-3-3', '825-3-4', '825-3-5', '825-3-6', '825-3-7', '825-3-8', '825-3-9', '825-3-10', '825-3-11', '825-3-12', '837-2-85', '922-4-4', '926-1-2', '928-4-1', '929-2-298', '1227-4-1', '1228-2-212']\n"
     ]
    },
    {
     "ename": "FileNotFoundError",
     "evalue": "[Errno 2] No such file or directory: 'C:\\\\Users\\\\nhaque\\\\FIU Dropbox\\\\Nur Imtiazul Haque\\\\Shared with Imtiaz 2\\\\research\\\\ieee-cns-2024\\\\strength\\\\data\\\\deadlock-elimination\\\\Linearized_DBSCAN_House-B_Occupant-2.json'",
     "output_type": "error",
     "traceback": [
      "\u001b[1;31m---------------------------------------------------------------------------\u001b[0m",
      "\u001b[1;31mFileNotFoundError\u001b[0m                         Traceback (most recent call last)",
      "\u001b[1;32m~\\AppData\\Local\\Temp\\ipykernel_24136\\3123222606.py\u001b[0m in \u001b[0;36m<module>\u001b[1;34m\u001b[0m\n\u001b[0;32m      6\u001b[0m         \u001b[0mfilename\u001b[0m \u001b[1;33m=\u001b[0m \u001b[0mstr\u001b[0m\u001b[1;33m(\u001b[0m\u001b[0mparent_directory\u001b[0m\u001b[1;33m)\u001b[0m \u001b[1;33m+\u001b[0m \u001b[1;34m'\\data\\\\deadlock-elimination\\\\Linearized_'\u001b[0m \u001b[1;33m+\u001b[0m \u001b[0mstr\u001b[0m\u001b[1;33m(\u001b[0m\u001b[0madm_algo\u001b[0m\u001b[1;33m)\u001b[0m \u001b[1;33m+\u001b[0m \u001b[1;34m'_House-'\u001b[0m \u001b[1;33m+\u001b[0m \u001b[0mstr\u001b[0m\u001b[1;33m(\u001b[0m\u001b[0mhouse_name\u001b[0m\u001b[1;33m)\u001b[0m \u001b[1;33m+\u001b[0m \u001b[1;34m'_Occupant-'\u001b[0m \u001b[1;33m+\u001b[0m \u001b[0mstr\u001b[0m\u001b[1;33m(\u001b[0m\u001b[0moccupant_id\u001b[0m\u001b[1;33m)\u001b[0m \u001b[1;33m+\u001b[0m \u001b[1;34m'.json'\u001b[0m\u001b[1;33m\u001b[0m\u001b[1;33m\u001b[0m\u001b[0m\n\u001b[0;32m      7\u001b[0m \u001b[1;33m\u001b[0m\u001b[0m\n\u001b[1;32m----> 8\u001b[1;33m         \u001b[1;32mwith\u001b[0m \u001b[0mopen\u001b[0m\u001b[1;33m(\u001b[0m\u001b[0mfilename\u001b[0m\u001b[1;33m,\u001b[0m \u001b[1;34m\"r\"\u001b[0m\u001b[1;33m)\u001b[0m \u001b[1;32mas\u001b[0m \u001b[0mfile\u001b[0m\u001b[1;33m:\u001b[0m\u001b[1;33m\u001b[0m\u001b[1;33m\u001b[0m\u001b[0m\n\u001b[0m\u001b[0;32m      9\u001b[0m             \u001b[0mdata\u001b[0m \u001b[1;33m=\u001b[0m \u001b[0mjson\u001b[0m\u001b[1;33m.\u001b[0m\u001b[0mload\u001b[0m\u001b[1;33m(\u001b[0m\u001b[0mfile\u001b[0m\u001b[1;33m)\u001b[0m\u001b[1;33m\u001b[0m\u001b[1;33m\u001b[0m\u001b[0m\n\u001b[0;32m     10\u001b[0m \u001b[1;33m\u001b[0m\u001b[0m\n",
      "\u001b[1;31mFileNotFoundError\u001b[0m: [Errno 2] No such file or directory: 'C:\\\\Users\\\\nhaque\\\\FIU Dropbox\\\\Nur Imtiazul Haque\\\\Shared with Imtiaz 2\\\\research\\\\ieee-cns-2024\\\\strength\\\\data\\\\deadlock-elimination\\\\Linearized_DBSCAN_House-B_Occupant-2.json'"
     ]
    }
   ],
   "source": [
    "strength_attack_costs_actual = dict()\n",
    "\n",
    "adm_algo = \"DBSCAN\"\n",
    "for house_name in ['A', 'B']:\n",
    "    for occupant_id in ['1', '2']:\n",
    "        filename = str(parent_directory) + '\\data\\\\deadlock-elimination\\\\Linearized_' + str(adm_algo) + '_House-' + str(house_name) + '_Occupant-' + str(occupant_id) + '.json'\n",
    "\n",
    "        with open(filename, \"r\") as file:\n",
    "            data = json.load(file)\n",
    "\n",
    "        rewards = [0, 1, 2, 4, 3]\n",
    "        states = data[\"States\"]\n",
    "        next_states = data[\"Next-States\"]\n",
    "\n",
    "        my_graph = nx.DiGraph()         \n",
    "        for i in range(len(states)):\n",
    "            state = states[i]\n",
    "            arrival_time = int(state.split('-')[0])\n",
    "            arrival_zone = int(state.split('-')[1])\n",
    "            state_stay_duration = int(state.split('-')[2])\n",
    "            try:\n",
    "                for j in next_states[str(i)]:\n",
    "                    if j == -1:\n",
    "                        my_graph.add_edge(state, '0-0-0', weight = 0)\n",
    "                        continue\n",
    "\n",
    "                    next_state = states[j]\n",
    "                    next_arrival_time = int(next_state.split('-')[0])\n",
    "                    next_arrival_zone = int(next_state.split('-')[1])\n",
    "                    next_state_stay_duration = int(next_state.split('-')[2])\n",
    "\n",
    "                    if next_arrival_zone == arrival_zone:\n",
    "                        my_graph.add_edge(state, next_state, weight = (next_state_stay_duration - state_stay_duration) * rewards[arrival_zone])\n",
    "                    else:\n",
    "                        my_graph.add_edge(state, next_state, weight = next_state_stay_duration  * rewards[next_arrival_zone])\n",
    "            except:\n",
    "                pass\n",
    "\n",
    "\n",
    "        source_node = '0-0-0'\n",
    "        current_source_nodes = [node for node in my_graph.nodes if my_graph.in_degree(node) == 0]\n",
    "\n",
    "        for node in current_source_nodes:\n",
    "            node_state_stay_duration = int(node.split('-')[2])\n",
    "            my_graph.add_edge(source_node, node, weight = node_state_stay_duration)\n",
    "\n",
    "        longest_path = nx.dag_longest_path(my_graph, weight = 'weight')    \n",
    "        len_longest_path = nx.dag_longest_path_length(my_graph, weight = 'weight'))\n",
    "        \n",
    "        attack_schedule = {\"Longest-Path\" : longest_path, \"Number-of-Nodes\" : my_graph.number_of_nodes(), \"Number-of-Edges:\" : my_graph.number_of_edges()}\n",
    "        \n",
    "        output_filename = str(parent_directory) + '\\data\\\\attack-schedules\\\\strength\\\\Linearized_' + str(adm_algo) + '_House-' + str(house_name) + '_Occupant-' + str(occupant_id) + '.json'\n",
    "\n",
    "        with open(output_filename, \"w\") as json_file:\n",
    "            json.dump(attack_schedule, json_file)"
   ]
  }
 ],
 "metadata": {
  "kernelspec": {
   "display_name": "Python 3 (ipykernel)",
   "language": "python",
   "name": "python3"
  },
  "language_info": {
   "codemirror_mode": {
    "name": "ipython",
    "version": 3
   },
   "file_extension": ".py",
   "mimetype": "text/x-python",
   "name": "python",
   "nbconvert_exporter": "python",
   "pygments_lexer": "ipython3",
   "version": "3.9.13"
  }
 },
 "nbformat": 4,
 "nbformat_minor": 5
}
